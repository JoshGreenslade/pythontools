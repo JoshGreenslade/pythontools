{
 "cells": [
  {
   "cell_type": "code",
   "execution_count": 2,
   "metadata": {},
   "outputs": [],
   "source": [
    "import numpy as np\n",
    "from integrators import euler\n",
    "import pylab as plt"
   ]
  },
  {
   "cell_type": "code",
   "execution_count": 3,
   "metadata": {},
   "outputs": [
    {
     "ename": "TypeError",
     "evalue": "dfdt() missing 1 required positional argument: 'y'",
     "output_type": "error",
     "traceback": [
      "\u001b[0;31m---------------------------------------------------------------------------\u001b[0m",
      "\u001b[0;31mTypeError\u001b[0m                                 Traceback (most recent call last)",
      "Cell \u001b[0;32mIn[3], line 9\u001b[0m\n\u001b[1;32m      6\u001b[0m t_end \u001b[39m=\u001b[39m \u001b[39m5\u001b[39m\n\u001b[1;32m      7\u001b[0m step_size \u001b[39m=\u001b[39m \u001b[39m1\u001b[39m\n\u001b[0;32m----> 9\u001b[0m res \u001b[39m=\u001b[39m euler(dfdt, \n\u001b[1;32m     10\u001b[0m             f0, t_span\u001b[39m=\u001b[39;49m[t_start, t_end], step_size\u001b[39m=\u001b[39;49mstep_size)\n",
      "File \u001b[0;32m~/proj/pythontools/integrators.py:43\u001b[0m, in \u001b[0;36meuler\u001b[0;34m(dydt, y0, t_span, n_steps, step_size)\u001b[0m\n\u001b[1;32m     41\u001b[0m \u001b[39mfor\u001b[39;00m _ \u001b[39min\u001b[39;00m np\u001b[39m.\u001b[39marange(n_steps):\n\u001b[1;32m     42\u001b[0m     t_new \u001b[39m=\u001b[39m t\u001b[39m+\u001b[39mstep_size\n\u001b[0;32m---> 43\u001b[0m     y_new \u001b[39m=\u001b[39m y \u001b[39m+\u001b[39m step_size \u001b[39m*\u001b[39m np\u001b[39m.\u001b[39marray(dydt(t, y))\n\u001b[1;32m     44\u001b[0m     t_array\u001b[39m.\u001b[39mappend(t_new)\n\u001b[1;32m     45\u001b[0m     y_array \u001b[39m=\u001b[39m np\u001b[39m.\u001b[39mvstack([y_array, y_new])\n",
      "\u001b[0;31mTypeError\u001b[0m: dfdt() missing 1 required positional argument: 'y'"
     ]
    }
   ],
   "source": [
    "def dfdt(t, y):\n",
    "    return [y[1], -9.81]\n",
    "\n",
    "f0 = [0, 50]\n",
    "t_start = 0\n",
    "t_end = 5\n",
    "step_size = 1\n",
    "\n",
    "res = euler(dfdt, \n",
    "            f0, \n",
    "            t_span=[t_start, t_end], \n",
    "            step_size=step_size)"
   ]
  }
 ],
 "metadata": {
  "kernelspec": {
   "display_name": "pythontools",
   "language": "python",
   "name": "python3"
  },
  "language_info": {
   "codemirror_mode": {
    "name": "ipython",
    "version": 3
   },
   "file_extension": ".py",
   "mimetype": "text/x-python",
   "name": "python",
   "nbconvert_exporter": "python",
   "pygments_lexer": "ipython3",
   "version": "3.9.13"
  },
  "orig_nbformat": 4
 },
 "nbformat": 4,
 "nbformat_minor": 2
}
